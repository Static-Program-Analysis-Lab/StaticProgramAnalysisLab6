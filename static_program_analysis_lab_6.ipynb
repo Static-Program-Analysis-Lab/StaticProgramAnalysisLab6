{
 "cells": [
  {
   "cell_type": "markdown",
   "source": [
    "# &#128214; Lab 6: Points-to Analysis"
   ],
   "metadata": {
    "collapsed": false
   },
   "id": "244b705cb049f76c"
  },
  {
   "cell_type": "markdown",
   "source": [
    "## &#128214; Exercise 1: Building Points-to Analysis\n",
    "\n",
    "### &#127919; Objective\n",
    "So far, our model could be used to perform **intraprocedural** static analysis, which is the examination of individual functions. \n",
    "However, real-world programs have function calls, where data and control flow traverse from one function to another. \n",
    "To capture a more accurate representation of a program's behavior, it's important to extend our analysis beyond the boundaries of single functions.\n",
    "\n",
    "In this exercise, we aim to enhance our model to conduct **interprocedural** analysis, enabling it to follow the flow of data and control across function calls. \n",
    "This leap will not only provide a more comprehensive understanding of the program's behavior but will also set the foundation for advanced analysis techniques.\n",
    "\n",
    "One of the key aspects of interprocedural analysis is the call graph construction.\n",
    "However, to build a call graph, one needs a points-to set for given variables, i.e., we need to perform a points-to analysis. \n",
    "This analysis helps in determining the potential objects a variable can point to, which in turn aids in identifying the possible targets of function calls. \n",
    "\n",
    "---\n",
    "\n",
    "### &#128214; Background\n",
    "\n",
    "In program analysis, understanding how data flows and how control is propagated across different procedures is important. \n",
    "This gets particularly significant when dealing with object-oriented or procedural programming paradigms where data and control frequently cross function boundaries.\n",
    "\n",
    "- **Intraprocedural Analysis:** This type of analysis is scoped within a single procedure or function. \n",
    "The control flow graph (CFG) you've built in previous exercises primarily supports intraprocedural analysis.\n",
    "\n",
    "- **Interprocedural Analysis:** This expands the analysis scope to multiple procedures or functions. \n",
    "It helps in understanding how data and control flow across different parts of a program.\n",
    "\n",
    "- **Points-to Analysis:** This is a technique used to determine the set of objects that a variable can point to.\n",
    "\n",
    "- **Call Graph:** A call graph is a directed graph that represents calling relationships between functions in a program. Each node represents a function and each edge (A, B) indicates that function A calls function B.\n",
    "\n",
    "---\n",
    "\n",
    "### &#10145; Tasks\n",
    "- Analyze a given piece of code to build a class hierarchy. This hierarchy should capture the parent-child relationships between classes.\n",
    "- For a given class, find the highest parent in the hierarchy.\n",
    "- From the highest parent, gather all subclasses (children, grandchildren, etc.) within the hierarchy.\n",
    "- Build the points-to set using the class hierarchy"
   ],
   "metadata": {
    "collapsed": false
   },
   "id": "86e762b43fe8ae9d"
  },
  {
   "cell_type": "markdown",
   "source": [
    "### Import the necessary library\n",
    "\n",
    "&#128161; *In the following cell, we will import the library needed for this exercise:*\n",
    "- `ast`: a module of the python standard library to transform Python code in its AST representation\n"
   ],
   "metadata": {
    "collapsed": false
   },
   "id": "f0854f17b6694c48"
  },
  {
   "cell_type": "code",
   "execution_count": null,
   "outputs": [],
   "source": [
    "import ast"
   ],
   "metadata": {
    "collapsed": false
   },
   "id": "62c52879e1d74f6b"
  },
  {
   "cell_type": "markdown",
   "source": [
    "&#9874; Utility function\n",
    "\n",
    "We provide a utility function called `print_dict` that can be used to print an indented representation of a `dict` object in Python."
   ],
   "metadata": {
    "collapsed": false
   },
   "id": "edcd4a79a1313ca3"
  },
  {
   "cell_type": "code",
   "execution_count": null,
   "outputs": [],
   "source": [
    "import json\n",
    "\n",
    "def print_dict(dictionary):\n",
    "    \"\"\"\n",
    "    Prints a dictionary in a beautified and indented format.\n",
    "\n",
    "    Parameters:\n",
    "    dictionary: The dictionary to be printed.\n",
    "    \"\"\"\n",
    "    print(json.dumps(dictionary, indent=4))"
   ],
   "metadata": {
    "collapsed": false
   },
   "id": "9842f2273b55cf0"
  },
  {
   "cell_type": "markdown",
   "source": [
    "Python code\n",
    "\n",
    "&#128161; The following cell contains a string that represents the Python code that will be analyzed through this exercise"
   ],
   "metadata": {
    "collapsed": false
   },
   "id": "d4838cd666809bf6"
  },
  {
   "cell_type": "code",
   "execution_count": null,
   "outputs": [],
   "source": [
    "code = \"\"\"\n",
    "class Language:\n",
    "    def __init__(self):\n",
    "        pass\n",
    "    def say_hello(self, first_name):\n",
    "        print(f\"Saluton {first_name} el ĝenerala lingvo.\")\n",
    "\n",
    "class French(Language):\n",
    "    def say_hello(self, first_name):\n",
    "        print(f\"Bonjour {first_name}.\")\n",
    "\n",
    "class English(Language):\n",
    "    def say_hello(self, first_name):\n",
    "        print(f\"Hello {first_name}.\")\n",
    "\n",
    "class German(Language):\n",
    "    def say_hello(self, first_name):\n",
    "        print(f\"Hallo {first_name}.\")\n",
    "\n",
    "class Spanish(Language):\n",
    "    def say_hello(self, first_name):\n",
    "        print(f\"Hola {first_name}.\")\n",
    "\n",
    "class Italian(Language):\n",
    "    def say_hello(self, first_name):\n",
    "        print(f\"Ciao {first_name}.\")\n",
    "\n",
    "class Portuguese(Language):\n",
    "    def say_hello(self, first_name):\n",
    "        print(f\"Olá {first_name}.\")\n",
    "\n",
    "if x > 5:\n",
    "    obj = French()\n",
    "else:\n",
    "    obj = English()\n",
    "    \n",
    "obj.say_hello(\"Patrick\")\n",
    "    \n",
    "if y < 3:\n",
    "    obj = German()\n",
    "else:\n",
    "    obj = Spanish()\n",
    "\n",
    "obj.say_hello(\"John\")\n",
    "\"\"\"\n"
   ],
   "metadata": {
    "collapsed": false
   },
   "id": "77c4be213b08b57a"
  },
  {
   "cell_type": "markdown",
   "source": [
    "### &#128161; Helper Function Explanation\n",
    "\n",
    "In Python, both class instantiation and function calling use the same syntax which leads to an ambiguity when analyzing the AST of a code snippet. \n",
    "Specifically, both operations appear as `ast.Call` nodes within the AST, which makes it difficult to distinguish between the two just by examining the syntax.\n",
    "\n",
    "For instance, consider the following Python code snippet:\n",
    "\n",
    "```python\n",
    "class MyClass:\n",
    "    pass\n",
    "\n",
    "def my_function():\n",
    "    pass\n",
    "\n",
    "obj = MyClass()  # Class instantiation\n",
    "my_function()    # Function call\n",
    "```\n",
    "\n",
    "In the AST, both `MyClass()` and `my_function()` will be represented as `ast.Call` nodes, which could lead to misinterpretation during analysis.\n",
    "\n",
    "To address this issue and provide clearer analysis, we present a helper function that traverses the AST to identify and categorize all class and function definitions. \n",
    "This will later help in accurately interpreting `ast.Call` nodes.\n",
    "\n",
    "#### Class and Function Analyzer\n",
    "\n",
    "We define a class `ClassFunctionAnalyzer` which inherits from `ast.NodeVisitor`. \n",
    "This class overrides three methods: `visit_ClassDef`, `visit_FunctionDef`, and `visit_Call`.\n",
    "\n",
    "```python\n",
    "class ClassFunctionAnalyzer(ast.NodeVisitor):\n",
    "    \"\"\"\n",
    "    A node visitor class that walks through the Abstract Syntax Tree (AST) to identify and record all class and function definitions within the code.\n",
    "\n",
    "    Attributes:\n",
    "    classes: A set to store unique class names encountered in the AST.\n",
    "    functions: A set to store unique function names encountered in the AST.\n",
    "    \"\"\"\n",
    "    def __init__(self):\n",
    "        self.classes = set()\n",
    "        self.functions = set()\n",
    "\n",
    "    def visit_ClassDef(self, node):\n",
    "        \"\"\"\n",
    "        Visits a class definition node, adding the class name to the classes set.\n",
    "\n",
    "        Parameters:\n",
    "        node: The class definition node being visited.\n",
    "        \"\"\"\n",
    "        self.classes.add(node.name)\n",
    "        self.generic_visit(node)\n",
    "\n",
    "    def visit_FunctionDef(self, node):\n",
    "        \"\"\"\n",
    "        Visits a function definition node, adding the function name to the functions set.\n",
    "\n",
    "        Parameters:\n",
    "        node: The function definition node being visited.\n",
    "        \"\"\"\n",
    "        self.functions.add(node.name)\n",
    "        self.generic_visit(node)\n",
    "        \n",
    "    def get_call_type(self, name):\n",
    "        \"\"\"\n",
    "        Determines whether a given name corresponds to a class instantiation or a function call.\n",
    "\n",
    "        Parameters:\n",
    "        name: The name of the function or class.\n",
    "\n",
    "        Returns:\n",
    "        str: \"class\" if the name corresponds to a class, \"function\" if it corresponds to a function, or \"unknown\" otherwise.\n",
    "        \"\"\"\n",
    "        if name in self.classes:\n",
    "            return \"class\"\n",
    "        elif name in self.functions:\n",
    "            return \"function\"\n",
    "        else:\n",
    "            return \"unknown\"\n",
    "```\n",
    "\n",
    "#### Explanations:\n",
    "\n",
    "- `__init__`: Initializes two sets, `classes` and `functions`, to store the names of classes and functions respectively.\n",
    "  \n",
    "- `visit_ClassDef`: This method is invoked for every `ast.ClassDef` node encountered. It adds the name of the class to the `classes` set.\n",
    "\n",
    "- `visit_FunctionDef`: This method is invoked for every `ast.FunctionDef` node encountered. It adds the name of the function to the `functions` set.\n",
    "\n",
    "- `visit_Call`: This method is invoked for every `ast.Call` node encountered. It checks whether the called entity is a class or a function by comparing the identifier against the collected sets of class and function names.\n",
    "\n",
    "By using this helper function, you will be able to determine whether an `ast.Call` node represents a class instantiation or a function call, which is important for the points-to analysis you will be performing.\n",
    "Of course, this solution is not optimal/perfect since we might have different functions with the same name in a program, but for simplicity we make the hypothesis that functions are unique. "
   ],
   "metadata": {
    "collapsed": false
   },
   "id": "51f83db41bddb69c"
  },
  {
   "cell_type": "code",
   "execution_count": null,
   "outputs": [],
   "source": [
    "class ClassFunctionAnalyzer(ast.NodeVisitor):\n",
    "    \"\"\"\n",
    "    A node visitor class that walks through the Abstract Syntax Tree (AST) to identify and record all class and function definitions within the code.\n",
    "\n",
    "    Attributes:\n",
    "    classes: A set to store unique class names encountered in the AST.\n",
    "    functions: A set to store unique function names encountered in the AST.\n",
    "    \"\"\"\n",
    "    def __init__(self):\n",
    "        self.classes = set()\n",
    "        self.functions = set()\n",
    "\n",
    "    def visit_ClassDef(self, node):\n",
    "        \"\"\"\n",
    "        Visits a class definition node, adding the class name to the classes set.\n",
    "\n",
    "        Parameters:\n",
    "        node: The class definition node being visited.\n",
    "        \"\"\"\n",
    "        self.classes.add(node.name)\n",
    "        self.generic_visit(node)\n",
    "\n",
    "    def visit_FunctionDef(self, node):\n",
    "        \"\"\"\n",
    "        Visits a function definition node, adding the function name to the functions set.\n",
    "\n",
    "        Parameters:\n",
    "        node: The function definition node being visited.\n",
    "        \"\"\"\n",
    "        self.functions.add(node.name)\n",
    "        self.generic_visit(node)\n",
    "        \n",
    "    def get_call_type(self, name):\n",
    "        \"\"\"\n",
    "        Determines whether a given name corresponds to a class instantiation or a function call.\n",
    "\n",
    "        Parameters:\n",
    "        name: The name of the function or class.\n",
    "\n",
    "        Returns:\n",
    "        str: \"class\" if the name corresponds to a class, \"function\" if it corresponds to a function, or \"unknown\" otherwise.\n",
    "        \"\"\"\n",
    "        if name in self.classes:\n",
    "            return \"class\"\n",
    "        elif name in self.functions:\n",
    "            return \"function\"\n",
    "        else:\n",
    "            return \"unknown\""
   ],
   "metadata": {
    "collapsed": false
   },
   "id": "7ffc225c8a1168c1"
  },
  {
   "cell_type": "markdown",
   "source": [
    "### &#128161; How to use the analyzer class to use throughout this lab"
   ],
   "metadata": {
    "collapsed": false
   },
   "id": "5cb7b42180935210"
  },
  {
   "cell_type": "code",
   "execution_count": null,
   "outputs": [],
   "source": [
    "tree = ast.parse(code)\n",
    "analyzer = ClassFunctionAnalyzer()\n",
    "analyzer.visit(tree)"
   ],
   "metadata": {
    "collapsed": false
   },
   "id": "6e9868f377ea21be"
  },
  {
   "cell_type": "markdown",
   "source": [
    "&#128161; Ok, now we are able to make the difference between a function call and a call to a constructor by using the `get_call_type` on the analyzer object, let us continue."
   ],
   "metadata": {
    "collapsed": false
   },
   "id": "71009e73715fed28"
  },
  {
   "cell_type": "markdown",
   "source": [
    "In this exercise, the focus is on understanding and handling scenarios where a method call is made on an object, and the specific class of the object is unknown. \n",
    "This situation presents a challenge in determining the behavior of the method call. \n",
    "A simplistic yet effective approach to overcome this challenge is to consider the broadest over-approximation. \n",
    "This over-approximation assumes that the method call could potentially be linked to any class within a defined hierarchy. \n",
    "Therefore, a prerequisite task for this exercise is to build the class hierarchy (see [1]) from the given code.\n",
    "Once the hierarchy is established, the objective is to identify method calls on objects with classes, and list all possible classes within the hierarchy that the method could belong to. \n",
    "This exercise serves as a precursor to developing a Points-to analysis. \n",
    "Through this task, you will grasp the concept of over-approximation, understand its impact on Points-to analysis, and lay the foundation for more precise analysis techniques to be explored in subsequent exercises.\n",
    "\n",
    "[1] Dean, Jeffrey, David Grove, and Craig Chambers. \"Optimization of object-oriented programs using static class hierarchy analysis.\" ECOOP’95—Object-Oriented Programming, 9th European Conference, Åarhus, Denmark, August 7–11, 1995 9. Springer Berlin Heidelberg, 1995."
   ],
   "metadata": {
    "collapsed": false
   },
   "id": "3b6a6a0aa237acb7"
  },
  {
   "cell_type": "markdown",
   "source": [
    "### &#128161; Class Hierarchy\n",
    "\n",
    "In the following cell, you will implement the `ClassHierarchyBuilder` class that extends the `ast.NodeVisitor` class to build the class hierarchy of the program under analysis.\n",
    "Implement the `visit_ClassDef` to visit class definitions and build the class hierarchy.\n",
    "If you need more methods, add some.\n"
   ],
   "metadata": {
    "collapsed": false
   },
   "id": "28d9dc21bfdf7600"
  },
  {
   "cell_type": "code",
   "execution_count": null,
   "outputs": [],
   "source": [
    "class ClassHierarchyBuilder(ast.NodeVisitor):\n",
    "    \"\"\"\n",
    "    A node visitor class to build a hierarchy of classes by traversing the Abstract Syntax Tree (AST).\n",
    "    This class identifies parent-child relationships among classes and provides methods to analyze\n",
    "    the resulting class hierarchy.\n",
    "\n",
    "    Attributes:\n",
    "    class_hierarchy: A dictionary representing the class hierarchy. Keys are class names,\n",
    "                            and values are lists of base class names.\n",
    "    \"\"\"\n",
    "\n",
    "    def __init__(self):\n",
    "        self.class_hierarchy = {}\n",
    "\n",
    "    def visit_ClassDef(self, node):\n",
    "        \"\"\"\n",
    "        Visits a class definition node, extracting the class name and the names of its base classes,\n",
    "        and updating the class hierarchy accordingly.\n",
    "\n",
    "        Parameters:\n",
    "        node: The class definition node being visited.\n",
    "        \"\"\""
   ],
   "metadata": {
    "collapsed": false
   },
   "id": "6f91ec90e2b46acd"
  },
  {
   "cell_type": "markdown",
   "source": [
    "### &#128161; In the following cell, you will test your hierarchy and print all the classes of the hierarchy that contains the `Spanish` class."
   ],
   "metadata": {
    "collapsed": false
   },
   "id": "11c046c2086c9448"
  },
  {
   "cell_type": "code",
   "execution_count": null,
   "outputs": [],
   "source": [],
   "metadata": {
    "collapsed": false
   },
   "id": "6413f1daaa9c7e25"
  },
  {
   "cell_type": "markdown",
   "source": [
    "### &#128161; In the following cell, you will implement the construction of the points-to set using the class hierarchy.\n",
    "\n",
    "Implement the `build_points_to_set` function that takes a node as a parameter.\n",
    "This idea is to find all class instantiations in the program and for the class being instantiated: get the hierarchy and build the points-to set of the variable receiving the instantiation (i.e., the object).\n",
    "For instance, an object's points-to analysis could be a set of class names.\n",
    "\n"
   ],
   "metadata": {
    "collapsed": false
   },
   "id": "e63725dbebaab958"
  },
  {
   "cell_type": "code",
   "execution_count": null,
   "outputs": [],
   "source": [
    "def build_points_to_set(node):\n",
    "    \"\"\"\n",
    "    Analyzes an AST to gather information about potential class instantiations.\n",
    "    \n",
    "    Parameters:\n",
    "    node: The root node of the AST.\n",
    "    analyzer (ClassFunctionAnalyzer): An instance of ClassFunctionAnalyzer.\n",
    "    \n",
    "    Returns:\n",
    "    dict: The points-to set.\n",
    "    \"\"\""
   ],
   "metadata": {
    "collapsed": false
   },
   "id": "6c8b8f5c3702a6a5"
  },
  {
   "cell_type": "markdown",
   "source": [
    "### &#128161; In the following cell, you will test your implementation.\n",
    "Build the points-to set using the `build_points_to_set` function and print it using the `print_dict` function."
   ],
   "metadata": {
    "collapsed": false
   },
   "id": "8f57730584ec91c"
  },
  {
   "cell_type": "code",
   "execution_count": null,
   "outputs": [],
   "source": [],
   "metadata": {
    "collapsed": false
   },
   "id": "dada695fac63c26d"
  },
  {
   "cell_type": "markdown",
   "source": [
    "### &#10067; Questions"
   ],
   "metadata": {
    "collapsed": false
   },
   "id": "53ffa7ccd8a2241"
  },
  {
   "cell_type": "markdown",
   "source": [
    "Explain the concept of over-approximation in the context of analyzing method calls on objects with unknown classes. Why is it useful, and what are its limitations?"
   ],
   "metadata": {
    "collapsed": false
   },
   "id": "e3f6c70114a2f863"
  },
  {
   "cell_type": "markdown",
   "source": [
    "Describe the process of building a class hierarchy from a given piece of code. Why is this hierarchy important for performing a broad over-approximation when analyzing method calls?"
   ],
   "metadata": {
    "collapsed": false
   },
   "id": "a61b4ab6f9423e48"
  },
  {
   "cell_type": "markdown",
   "source": [
    "Did you identify any limitation to this technique? Explain."
   ],
   "metadata": {
    "collapsed": false
   },
   "id": "6b1dd4f0bf392cfd"
  },
  {
   "cell_type": "markdown",
   "source": [
    "## &#128214; Exercise 2: Refining Points-to Analysis\n",
    "\n",
    "### &#127919; Objective\n",
    "In the previous exercise, we ventured into interprocedural analysis and took our first steps towards understanding the essence of Points-to Analysis by dealing with class hierarchies. \n",
    "However, the approach was quite broad, focusing on the entire class hierarchy irrespective of whether a class was instantiated or not. \n",
    "In this exercise, we aim to refine the Points-to Analysis by sharpening in on the actual class instantiations within the code, and transitioning from a flow-insensitive to a flow-sensitive analysis.\n",
    "\n",
    "---\n",
    "\n",
    "### &#128214; Background\n",
    "\n",
    "Precision in program analysis is important to understand the behavior of code and to minimize the chances of false positives or negatives. \n",
    "Two key aspects that can significantly enhance the precision of our Points-to Analysis are:\n",
    "\n",
    "- **Considering Actual Class Instantiations:** Focusing on the classes that are actually instantiated in the code, as opposed to all classes in the hierarchy, can provide a more accurate picture of the possible objects a pointer can point to.\n",
    "\n",
    "- **Flow Sensitivity:** Unlike flow-insensitive analysis, which disregards the order in which statements are executed, flow-sensitive analysis takes into account the sequence of statement execution.\n",
    "\n",
    "### &#10145; Tasks\n",
    "1. **Refinement by Class Instantiation:**\n",
    "   - Modify your Points-to Analysis to only consider classes that are actually instantiated in the code.\n",
    "   - Analyze the given piece of code and update your Points-to set based on actual class instantiations.\n",
    "\n",
    "2. **Transition to Flow-sensitive Analysis:**\n",
    "   - Adapt your Points-to Analysis to be flow-sensitive.\n",
    "   - Implement an algorithm that considers the order of statement execution to build a more precise Points-to set.\n",
    "\n",
    "By doing these refinements, you will enhance the precision of your Points-to Analysis, moving closer to a more precise representation of the program's behavior across different procedural contexts. \n",
    "This exercise will further build on your understanding of interprocedural analysis, preparing you for more advanced analysis techniques."
   ],
   "metadata": {
    "collapsed": false
   },
   "id": "c882f715ac3e9370"
  },
  {
   "cell_type": "markdown",
   "source": [
    "### In the following cell, you will implement the construction of the points-to set using only the classes instantiated.\n",
    "Modify the `build_points_to_set` function to only retain classes that have been instantiated to decrease the lefvel of over-approximation in your analysis."
   ],
   "metadata": {
    "collapsed": false
   },
   "id": "cfce0736dd637d41"
  },
  {
   "cell_type": "code",
   "execution_count": null,
   "outputs": [],
   "source": [
    "def build_points_to_set(node):\n",
    "    \"\"\"\n",
    "    Analyzes an AST to gather information about potential class instantiations.\n",
    "    \n",
    "    Parameters:\n",
    "    node: The root node of the AST.\n",
    "    analyzer (ClassFunctionAnalyzer): An instance of ClassFunctionAnalyzer.\n",
    "    \n",
    "    Returns:\n",
    "    dict: The points-to set.\n",
    "    \"\"\""
   ],
   "metadata": {
    "collapsed": false
   },
   "id": "665fbd53a45ad681"
  },
  {
   "cell_type": "markdown",
   "source": [
    "### &#128161; In the following cell, you will test your new implementation and print the new points-to set."
   ],
   "metadata": {
    "collapsed": false
   },
   "id": "b101df43ff8cef23"
  },
  {
   "cell_type": "code",
   "execution_count": null,
   "outputs": [],
   "source": [
    "\n",
    "\n",
    "\n",
    "# Expected output:\n",
    "# {\n",
    "#     \"obj\": [\n",
    "#         \"French\",\n",
    "#         \"English\",\n",
    "#         \"German\",\n",
    "#         \"Spanish\"\n",
    "#     ]\n",
    "# }"
   ],
   "metadata": {
    "collapsed": false
   },
   "id": "4547982d45b9e107"
  },
  {
   "cell_type": "markdown",
   "source": [
    "Perfect! Now the points-to set of the `obj` object is refined!"
   ],
   "metadata": {
    "collapsed": false
   },
   "id": "999d449d2ea7f268"
  },
  {
   "cell_type": "markdown",
   "source": [
    "‼️But! \n",
    "Can \"obj\" be a German or Spanish at line 38 (obj.say_hello(\"Patrick\"))?\n",
    "The answer is NO! because so far our analysis was not precise enough to discover that, it is more precise than the \"hierarchy\" technique but it is still too much of an approximation."
   ],
   "metadata": {
    "collapsed": false
   },
   "id": "4d0edb0db5b39723"
  },
  {
   "cell_type": "markdown",
   "source": [
    "### &#128161;Flow-sensitive analysis\n",
    "\n",
    "#### Your goal now is to give two different points-to set for the \"obj\" variable given their location in the code.\n",
    "\n",
    "We will not implement here a full-fledged data flow analysis to propagate the points-to set by following the control flow, it is too advanced.\n",
    "I would like you to refine the points-to set so far constructed and only consider class instantiation that only occured before the call on an object.\n",
    "\n",
    "For instance, in our case, at line 38, the points-to set should be equal to [\"English\", \"French\"] and at line 45, it should be [\"German\", \"Spanish\", \"English\", \"French\"].\n",
    "\n",
    "Your turn!"
   ],
   "metadata": {
    "collapsed": false
   },
   "id": "45f0df1d961f9775"
  },
  {
   "cell_type": "code",
   "execution_count": null,
   "outputs": [],
   "source": [
    "def build_points_to_set(node, analyzer):\n",
    "    \"\"\"\n",
    "    Analyzes an AST to gather information about potential class instantiations and method calls.\n",
    "    \n",
    "    Parameters:\n",
    "    node: The root node of the AST.\n",
    "    analyzer: An instance of ClassFunctionAnalyzer.\n",
    "    \n",
    "    Returns:\n",
    "    dict: The points-to set.\n",
    "    \"\"\""
   ],
   "metadata": {
    "collapsed": false
   },
   "id": "3e88ee7b2c6851c1"
  },
  {
   "cell_type": "markdown",
   "source": [
    "### &#128161; In the following cell, you will test your new implementation and print the new points-to set."
   ],
   "metadata": {
    "collapsed": false
   },
   "id": "4465d28aa7784a85"
  },
  {
   "cell_type": "code",
   "execution_count": null,
   "outputs": [],
   "source": [
    "\n",
    "\n",
    "# Expected output:\n",
    "# {\n",
    "#     \"obj@37\": [\n",
    "#         \"French\",\n",
    "#         \"English\"\n",
    "#     ],\n",
    "#     \"obj@44\": [\n",
    "#         \"French\",\n",
    "#         \"English\",\n",
    "#         \"German\",\n",
    "#         \"Spanish\"\n",
    "#     ]\n",
    "# }"
   ],
   "metadata": {
    "collapsed": false
   },
   "id": "a65177def9f65f45"
  },
  {
   "cell_type": "markdown",
   "source": [
    "&#128161; Now write a function to print the points-to set in a human-readable format, for instance:\n",
    "Variable \"obj\" at line \"XX\" has the following points-to set: YY, ZZ"
   ],
   "metadata": {
    "collapsed": false
   },
   "id": "1a7573b58ab847e8"
  },
  {
   "cell_type": "code",
   "execution_count": null,
   "outputs": [],
   "source": [
    "def print_points_to_set(points_to_set):\n",
    "    \"\"\"\n",
    "    Prints the points-to set in a readable format.\n",
    "\n",
    "    Parameters:\n",
    "    points_to_set: The points-to set.\n",
    "    \"\"\""
   ],
   "metadata": {
    "collapsed": false
   },
   "id": "302455937d910972"
  },
  {
   "cell_type": "code",
   "execution_count": null,
   "outputs": [],
   "source": [
    "print_points_to_set(points_to_set)"
   ],
   "metadata": {
    "collapsed": false
   },
   "id": "bfff5ae6ca794a67"
  },
  {
   "cell_type": "markdown",
   "source": [
    "Congratulations! \n",
    "\n",
    "You have refined the points-to set. \n",
    "But, according to you, can it be refined further?\n",
    "How? Explain. "
   ],
   "metadata": {
    "collapsed": false
   },
   "id": "c75f0d0c3b116177"
  }
 ],
 "metadata": {
  "kernelspec": {
   "display_name": "Python 3",
   "language": "python",
   "name": "python3"
  },
  "language_info": {
   "codemirror_mode": {
    "name": "ipython",
    "version": 2
   },
   "file_extension": ".py",
   "mimetype": "text/x-python",
   "name": "python",
   "nbconvert_exporter": "python",
   "pygments_lexer": "ipython2",
   "version": "2.7.6"
  }
 },
 "nbformat": 4,
 "nbformat_minor": 5
}
